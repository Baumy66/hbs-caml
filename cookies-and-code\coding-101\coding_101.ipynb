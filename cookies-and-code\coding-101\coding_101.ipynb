{
  "nbformat": 4,
  "nbformat_minor": 0,
  "metadata": {
    "colab": {
      "name": "coding-101",
      "provenance": [],
      "include_colab_link": true
    },
    "kernelspec": {
      "name": "python3",
      "display_name": "Python 3"
    }
  },
  "cells": [
    {
      "cell_type": "markdown",
      "metadata": {
        "id": "view-in-github",
        "colab_type": "text"
      },
      "source": [
        "<a href=\"https://colab.research.google.com/github/Baumy66/hbs-caml/blob/cookies-and-code%2Fprogramming-101/cookies-and-code%5Ccoding-101%5Ccoding_101.ipynb\" target=\"_parent\"><img src=\"https://colab.research.google.com/assets/colab-badge.svg\" alt=\"Open In Colab\"/></a>"
      ]
    },
    {
      "cell_type": "code",
      "metadata": {
        "id": "auMJBmpGMFRB",
        "colab_type": "code",
        "colab": {
          "base_uri": "https://localhost:8080/",
          "height": 34
        },
        "outputId": "1f216501-7e22-4e29-90e6-5ef2bbe92c86"
      },
      "source": [
        "# Printing\n",
        "print('Hello World!')"
      ],
      "execution_count": 3,
      "outputs": [
        {
          "output_type": "stream",
          "text": [
            "<class 'str'>\n"
          ],
          "name": "stdout"
        }
      ]
    },
    {
      "cell_type": "code",
      "metadata": {
        "id": "Nu3zb5ffNMVp",
        "colab_type": "code",
        "colab": {
          "base_uri": "https://localhost:8080/",
          "height": 34
        },
        "outputId": "51f3a0a1-f05d-4117-eb14-33f4e81a9d46"
      },
      "source": [
        "# Variables\n",
        "\n",
        "# = is \"set to\"\n",
        "# == is \"equal to\"\n",
        "x = 1\n",
        "y = x == 1\n",
        "print(y)"
      ],
      "execution_count": 7,
      "outputs": [
        {
          "output_type": "stream",
          "text": [
            "True\n"
          ],
          "name": "stdout"
        }
      ]
    },
    {
      "cell_type": "code",
      "metadata": {
        "id": "U3sVeLSkMPzy",
        "colab_type": "code",
        "colab": {
          "base_uri": "https://localhost:8080/",
          "height": 119
        },
        "outputId": "f5635513-3af4-4356-a1bc-dbd60d779f64"
      },
      "source": [
        "# Data Types\n",
        "# Integer\n",
        "x = 1\n",
        "\n",
        "# Float\n",
        "pi = 3.14\n",
        "\n",
        "# String\n",
        "name = 'Matt'\n",
        "\n",
        "# List\n",
        "listOfVowels = ['a', 'e', 'i', 'o', 'u']\n",
        "a = listOfVowels[0]\n",
        "\n",
        "# Booleans\n",
        "isTheWorldFlat = False\n",
        "\n",
        "print(type(x))\n",
        "print(type(pi))\n",
        "print(type(name))\n",
        "print(a)\n",
        "print(type(listOfVowels))\n",
        "print(type(isTheWorldFlat))\n"
      ],
      "execution_count": 25,
      "outputs": [
        {
          "output_type": "stream",
          "text": [
            "<class 'int'>\n",
            "<class 'float'>\n",
            "<class 'str'>\n",
            "a\n",
            "<class 'list'>\n",
            "<class 'bool'>\n"
          ],
          "name": "stdout"
        }
      ]
    },
    {
      "cell_type": "code",
      "metadata": {
        "id": "IQR3P7QaMr0m",
        "colab_type": "code",
        "colab": {
          "base_uri": "https://localhost:8080/",
          "height": 119
        },
        "outputId": "d9620394-7a79-460d-85f7-a41d929dd3f4"
      },
      "source": [
        "\n",
        "# Math\n",
        "# Addition, Subtraction, Multiplication, Division\n",
        "print('x = ' + str(x))\n",
        "y = 1 + x\n",
        "z = y * y\n",
        "x = z - y\n",
        "print('x = ' + str(x))\n",
        "\n",
        "print(type(y))\n",
        "print(y)\n",
        "\n",
        "print('powers')\n",
        "print(4**2)"
      ],
      "execution_count": 11,
      "outputs": [
        {
          "output_type": "stream",
          "text": [
            "x = 2\n",
            "x = 6\n",
            "<class 'int'>\n",
            "3\n",
            "powers\n",
            "16\n"
          ],
          "name": "stdout"
        }
      ]
    },
    {
      "cell_type": "code",
      "metadata": {
        "id": "FE_sH633N3oY",
        "colab_type": "code",
        "colab": {}
      },
      "source": [
        "import math\n",
        "def getHypotenuse(a, b):\n",
        "  d = (a*a + b*b)\n",
        "  c = math.sqrt(d)\n",
        "  return c"
      ],
      "execution_count": 0,
      "outputs": []
    },
    {
      "cell_type": "code",
      "metadata": {
        "id": "W4sdIk-cOQgF",
        "colab_type": "code",
        "colab": {
          "base_uri": "https://localhost:8080/",
          "height": 51
        },
        "outputId": "cb7fa404-eb01-4e96-8e80-122a0d5915a1"
      },
      "source": [
        "y = getHypotenuse(2,2)\n",
        "z = getHypotenuse(3,4)\n",
        "\n",
        "print(y)\n",
        "print(z)"
      ],
      "execution_count": 19,
      "outputs": [
        {
          "output_type": "stream",
          "text": [
            "2\n",
            "2\n"
          ],
          "name": "stdout"
        }
      ]
    },
    {
      "cell_type": "code",
      "metadata": {
        "id": "URzQLYQIOUQB",
        "colab_type": "code",
        "colab": {}
      },
      "source": [
        "# Conditions\n",
        "def isItRight(a,b,c):\n",
        "    hypotenuseForRightTriangle = getHypotenuse(a,b)\n",
        "    if(float(c) == hypotenuseForRightTriangle):\n",
        "        return True\n",
        "    else:\n",
        "        return False"
      ],
      "execution_count": 0,
      "outputs": []
    },
    {
      "cell_type": "code",
      "metadata": {
        "id": "bdV0rzK0PZfp",
        "colab_type": "code",
        "colab": {
          "base_uri": "https://localhost:8080/",
          "height": 51
        },
        "outputId": "d5402307-7cdf-46d7-de8a-15617205992a"
      },
      "source": [
        "print(isItRight(2,3,4))\n",
        "print(isItRight(3,4,5))"
      ],
      "execution_count": 22,
      "outputs": [
        {
          "output_type": "stream",
          "text": [
            "False\n",
            "True\n"
          ],
          "name": "stdout"
        }
      ]
    },
    {
      "cell_type": "code",
      "metadata": {
        "id": "yJTBDBo-PzdD",
        "colab_type": "code",
        "colab": {}
      },
      "source": [
        "\n",
        "# Loops\n",
        "upperLimit = 300\n",
        "numberOfRight = 0\n",
        "a=0\n",
        "while(a<upperLimit):\n",
        "    b=0\n",
        "    while(b<upperLimit):\n",
        "        c = 0\n",
        "        while(c<upperLimit):\n",
        "            isRight = isItRight(a,b,c)\n",
        "            if(isRight and a != 0 and b != 0 and c != 0):\n",
        "                # printMessage(a, b, c, isRight)\n",
        "                numberOfRight = numberOfRight + 1\n",
        "            c = c + 1\n",
        "        b = b + 1\n",
        "    a = a + 1\n",
        "    if(a % 100 == 0):\n",
        "        print(a)\n",
        "\n",
        "print('The number of right triangles below ' + str(upperLimit) + ' is ' + str(numberOfRight))"
      ],
      "execution_count": 0,
      "outputs": []
    },
    {
      "cell_type": "code",
      "metadata": {
        "id": "dOL1Avx0Pn0z",
        "colab_type": "code",
        "colab": {
          "base_uri": "https://localhost:8080/",
          "height": 85
        },
        "outputId": "850af21c-0c45-4df1-d698-61b132be5919"
      },
      "source": [
        "\n",
        "# Loops\n",
        "upperLimit = 300\n",
        "numberOfRight = 0\n",
        "a=0\n",
        "while(a<upperLimit):\n",
        "    b=0\n",
        "    while(b<upperLimit):\n",
        "        c = 0\n",
        "        while(c<upperLimit):\n",
        "            isRight = isItRight(a,b,c)\n",
        "            if(isRight and a != 0 and b != 0 and c != 0):\n",
        "                # printMessage(a, b, c, isRight)\n",
        "                numberOfRight = numberOfRight + 1\n",
        "            c = c + 1\n",
        "        b = b + 1\n",
        "    a = a + 1\n",
        "    if(a % 100 == 0):\n",
        "        print(a)\n",
        "\n",
        "print('The number of right triangles below ' + str(upperLimit) + ' is ' + str(numberOfRight))"
      ],
      "execution_count": 23,
      "outputs": [
        {
          "output_type": "stream",
          "text": [
            "100\n",
            "200\n",
            "300\n",
            "The number of right triangles below 300 is 414\n"
          ],
          "name": "stdout"
        }
      ]
    }
  ]
}